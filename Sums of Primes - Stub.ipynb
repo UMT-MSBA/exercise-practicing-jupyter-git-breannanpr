{
 "cells": [
  {
   "cell_type": "markdown",
   "metadata": {},
   "source": [
    "A prime number is any number that is only divisible by itself and the number 1. The first few prime numbers are 2,3,5,7,11,13. In this exercise, I'd like you to sum up the first 1000 prime numbers. Make the 1000 number a constant that can be changed. As always, have your code confirm to our [coding standards](https://google.github.io/styleguide/pyguide.html). Use comments and make your code readable. "
   ]
  },
  {
   "cell_type": "code",
   "execution_count": null,
   "metadata": {},
   "outputs": [],
   "source": [
    "# Your code here"
   ]
  }
 ],
 "metadata": {
  "kernelspec": {
   "display_name": "Python 3",
   "language": "python",
   "name": "python3"
  },
  "language_info": {
   "codemirror_mode": {
    "name": "ipython",
    "version": 3
   },
   "file_extension": ".py",
   "mimetype": "text/x-python",
   "name": "python",
   "nbconvert_exporter": "python",
   "pygments_lexer": "ipython3",
   "version": "3.7.3"
  }
 },
 "nbformat": 4,
 "nbformat_minor": 4
}
