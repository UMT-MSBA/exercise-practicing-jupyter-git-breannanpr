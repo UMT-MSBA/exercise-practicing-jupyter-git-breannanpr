{
 "cells": [
  {
   "cell_type": "markdown",
   "metadata": {},
   "source": [
    "A prime number is any number that is only divisible by itself and the number 1. The first few prime numbers are 2,3,5,7,11,13. In this exercise, I'd like you to sum up the first 1000 prime numbers. Make the 1000 number a constant that can be changed. As always, have your code confirm to our [coding standards](https://google.github.io/styleguide/pyguide.html). Use comments and make your code readable. "
   ]
  },
  {
   "cell_type": "code",
   "execution_count": null,
   "metadata": {},
   "outputs": [],
   "source": [
    "num_primes = 1000\n",
    "max_seq_length = 10**4 # I had to test to make sure I went far enough\n",
    "\n",
    "primes = [] # a list to hold our primes\n",
    "candidates = range(2,max_seq_length) # numbers that we'll test"
   ]
  },
  {
   "cell_type": "code",
   "execution_count": null,
   "metadata": {},
   "outputs": [],
   "source": [
    "iterations = 0 \n",
    "# any time I use a while loop, I like having a way to break out so \n",
    "# I can't end up in an infinite loop\n",
    "\n",
    "while len(primes) < num_primes :\n",
    "    \n",
    "    # the first number is guaranteed to be prime\n",
    "    new_prime = candidates[0]\n",
    "    \n",
    "    # add it to our list\n",
    "    primes.append(new_prime)\n",
    "    \n",
    "    # cross out every number that's divisble by our new prime\n",
    "    candidates = [x for x in candidates if x % new_prime != 0]\n",
    "    \n",
    "    # the fail safe\n",
    "    iterations += 1\n",
    "    if iterations > max_seq_length :\n",
    "        break"
   ]
  },
  {
   "cell_type": "code",
   "execution_count": null,
   "metadata": {},
   "outputs": [],
   "source": [
    "print(len(primes))\n",
    "sum(primes)"
   ]
  }
 ],
 "metadata": {
  "kernelspec": {
   "display_name": "Python 3",
   "language": "python",
   "name": "python3"
  },
  "language_info": {
   "codemirror_mode": {
    "name": "ipython",
    "version": 3
   },
   "file_extension": ".py",
   "mimetype": "text/x-python",
   "name": "python",
   "nbconvert_exporter": "python",
   "pygments_lexer": "ipython3",
   "version": "3.7.3"
  }
 },
 "nbformat": 4,
 "nbformat_minor": 4
}
